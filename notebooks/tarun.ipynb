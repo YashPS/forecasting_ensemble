{
 "cells": [
  {
   "cell_type": "code",
   "execution_count": 3,
   "metadata": {
    "collapsed": true
   },
   "outputs": [],
   "source": []
  },
  {
   "cell_type": "code",
   "execution_count": null,
   "outputs": [
    {
     "name": "stdout",
     "output_type": "stream",
     "text": [
      "1. ADF :  -3.1576705563328114\n",
      "2. P-Value :  0.02256938062657105\n",
      "3. Num Of Lags :  23\n",
      "4. Num Of Observations Used For ADF Regression and Critical Values Calculation : 1802\n",
      "5. Critical Values :\n",
      "\t 1% :  -3.4339840952648695\n",
      "\t 5% :  -2.8631452508003057\n",
      "\t 10% :  -2.567624583142913\n",
      "Series is Stationary\n",
      "Performing stepwise search to minimize aic\n"
     ]
    }
   ],
   "source": [
    "import warnings\n",
    "warnings.filterwarnings('ignore')\n",
    "\n",
    "\n",
    "\n",
    "import pandas as pd\n",
    "import numpy as np\n",
    "\n",
    "\n",
    "\n",
    "import matplotlib.pyplot as plt\n",
    "plt.rcParams[\"figure.figsize\"] = [16,9]\n",
    "%matplotlib inline\n",
    "import seaborn as sns\n",
    "import os\n",
    "\n",
    "\n",
    "\n",
    "from statsmodels.tsa.seasonal import seasonal_decompose\n",
    "from statsmodels.tsa.stattools import adfuller\n",
    "from datetime import timedelta, date, datetime\n",
    "\n",
    "\n",
    "\n",
    "import statsmodels.api as sm\n",
    "\n",
    "\n",
    "\n",
    "import pmdarima as pm\n",
    "from pmdarima.model_selection import train_test_split\n",
    "\n",
    "\n",
    "\n",
    "#os.chdir(\"C://Tarun\\Projects_2021/ML_DL_Accelerators/Time_Series\")\n",
    "# data_path = os.path.join(os.getcwd(), \"Data/\")\n",
    "MAIN_DIR = '\\\\'.join(os.getcwd().split('\\\\')[:-1])\n",
    "data_path = MAIN_DIR+'\\\\data\\\\raw\\\\store_item\\\\'\n",
    "\n",
    "\n",
    "\n",
    "df = pd.read_csv(data_path +'train.csv', parse_dates=['date'])\n",
    "\n",
    "\n",
    "\n",
    "\n",
    "df['store'] = df['store'].astype('category')\n",
    "df['item'] = df['item'].astype('category')\n",
    "df['sales'] = df['sales'].astype('int32')\n",
    "\n",
    "\n",
    "\n",
    "df_1 = df[(df['store'] == 1) & (df['item'] == 1)]\n",
    "\n",
    "\n",
    "\n",
    "\n",
    "data = df_1.drop(columns=['store', 'item'], axis = 1)\n",
    "\n",
    "\n",
    "\n",
    "data = data.groupby(['date']).agg({'sales' : 'sum'})\n",
    "\n",
    "\n",
    "\n",
    "data.plot()\n",
    "\n",
    "\n",
    "\n",
    "decompose_data = seasonal_decompose(data, model=\"additive\", freq=365)\n",
    "#decompose_data = seasonal_decompose(data, model=\"additive\")\n",
    "decompose_data.plot();\n",
    "\n",
    "\n",
    "\n",
    "\n",
    "from statsmodels.tsa.stattools import adfuller\n",
    "dftest = adfuller(data.sales, autolag = 'AIC')\n",
    "print(\"1. ADF : \",dftest[0])\n",
    "print(\"2. P-Value : \", dftest[1])\n",
    "print(\"3. Num Of Lags : \", dftest[2])\n",
    "print(\"4. Num Of Observations Used For ADF Regression and Critical Values Calculation :\", dftest[3])\n",
    "print(\"5. Critical Values :\")\n",
    "for key, val in dftest[4].items():\n",
    "    print(\"\\t\",key, \": \", val)\n",
    "\n",
    "\n",
    "\n",
    "if dftest[1] > 0.05 :\n",
    "    print('Series is not Stationary')\n",
    "else:\n",
    "    print('Series is Stationary')\n",
    "\n",
    "\n",
    "\n",
    "#!pip install pmdarima\n",
    "\n",
    "\n",
    "\n",
    "\n",
    "data.head()\n",
    "\n",
    "\n",
    "\n",
    "\n",
    "\n",
    "\n",
    "\n",
    "\n",
    "model = pm.auto_arima(\n",
    "    y = data['sales'],\n",
    "    m=365,\n",
    "    seasonal=True,\n",
    "    start_p=1, start_q=1, max_p=3, max_q=3,\n",
    "    max_order=4,\n",
    "    test='adf',\n",
    "    error_action='ignore',\n",
    "    suppress_warnings=True,\n",
    "    stepwise=True,\n",
    "    trace=True,\n",
    "    n_jobs = -1\n",
    ")"
   ],
   "metadata": {
    "collapsed": false,
    "pycharm": {
     "name": "#%%\n",
     "is_executing": true
    }
   }
  },
  {
   "cell_type": "code",
   "execution_count": null,
   "outputs": [],
   "source": [
    "\n",
    "import pickle\n",
    "with open('temp_arima.pkl') as mf:\n",
    "    pickle.dump(mf, model)\n",
    "\n",
    "# %%time\n",
    "\n",
    "\n",
    "\n",
    "# model = pm.auto_arima(y = data['sales'],\n",
    "# m=12, seasonal=True,\n",
    "# start_p=1, start_q=1, max_p=3, max_q=3, max_order=4, test='adf',error_action='ignore',\n",
    "# suppress_warnings=True,\n",
    "# stepwise=True, trace=True, n_jobs = -1)\n",
    "\n",
    "\n",
    "\n",
    "\n",
    "\n",
    "# %%time\n",
    "\n",
    "\n",
    "\n",
    "# model = pm.auto_arima(y = data['sales'],\n",
    "# m=1, seasonal=True,\n",
    "# start_p=1, start_q=1, max_p=3, max_q=3, max_order=4, test='adf',error_action='ignore',\n",
    "# suppress_warnings=True,\n",
    "# stepwise=True, trace=True, n_jobs = -1)"
   ],
   "metadata": {
    "collapsed": false,
    "pycharm": {
     "name": "#%%\n"
    }
   }
  },
  {
   "cell_type": "code",
   "execution_count": null,
   "outputs": [],
   "source": [
    "model.summary"
   ],
   "metadata": {
    "collapsed": false,
    "pycharm": {
     "name": "#%%\n",
     "is_executing": true
    }
   }
  },
  {
   "cell_type": "code",
   "execution_count": null,
   "outputs": [],
   "source": [],
   "metadata": {
    "collapsed": false,
    "pycharm": {
     "name": "#%%\n",
     "is_executing": true
    }
   }
  }
 ],
 "metadata": {
  "kernelspec": {
   "display_name": "Python 3",
   "language": "python",
   "name": "python3"
  },
  "language_info": {
   "codemirror_mode": {
    "name": "ipython",
    "version": 2
   },
   "file_extension": ".py",
   "mimetype": "text/x-python",
   "name": "python",
   "nbconvert_exporter": "python",
   "pygments_lexer": "ipython2",
   "version": "2.7.6"
  }
 },
 "nbformat": 4,
 "nbformat_minor": 0
}