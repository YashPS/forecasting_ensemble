{
 "cells": [
  {
   "cell_type": "code",
   "execution_count": 205,
   "metadata": {
    "collapsed": true
   },
   "outputs": [],
   "source": [
    "import os\n",
    "from IPython.display import display\n",
    "import pandas as pd\n",
    "import numpy as np\n",
    "import gc\n",
    "import matplotlib.pyplot as plt\n",
    "import seaborn as sns\n",
    "#from jupyterthemes import jtplot\n",
    "#jtplot.style(theme='chesterish')\n",
    "import pickle\n",
    "from scipy.spatial.distance import euclidean #used for fdt\n",
    "import fastdtw as fdt #fast dynamic time warping\n",
    "from statsmodels.tsa.seasonal import seasonal_decompose #decompose seasonality\n",
    "from statsmodels.tsa.stattools import adfuller #test if series is stationary (then can perform ARIMA)\n",
    "\n",
    "from pmdarima.arima import auto_arima\n",
    "import xgboost as xgb #xgboost model\n",
    "import tensorflow as tf #DNN estimator model\n",
    "%matplotlib inline\n",
    "path = '../input/'\n",
    "\n",
    "import warnings\n",
    "import numpy as np\n",
    "import pandas as pd\n",
    "import matplotlib.pyplot as plt\n",
    "from keras import optimizers\n",
    "from keras.utils.vis_utils import plot_model\n",
    "from keras.models import Sequential, Model\n",
    "from keras.layers.convolutional import Conv1D, MaxPooling1D\n",
    "from keras.layers import Dense, LSTM, RepeatVector, TimeDistributed, Flatten\n",
    "from sklearn.metrics import mean_squared_error\n",
    "from sklearn.model_selection import train_test_split\n",
    "# import chart_studio.plotly as py\n",
    "import plotly.graph_objs as go\n",
    "from plotly.offline import init_notebook_mode, iplot\n",
    "from keras import optimizers, models\n",
    "from keras.callbacks import EarlyStopping\n",
    "from datetime import datetime\n",
    "from os import listdir\n",
    "import joblib\n",
    "import platform\n",
    "from sklearn.preprocessing import StandardScaler\n",
    "import yaml"
   ]
  },
  {
   "cell_type": "code",
   "execution_count": 158,
   "metadata": {
    "collapsed": false,
    "pycharm": {
     "name": "#%%\n"
    }
   },
   "outputs": [],
   "source": []
  },
  {
   "cell_type": "code",
   "execution_count": 199,
   "metadata": {
    "collapsed": false,
    "pycharm": {
     "name": "#%%\n"
    }
   },
   "outputs": [],
   "source": [
    "MAIN_DIR = '\\\\'.join(os.getcwd().split('\\\\')[:-1])\n",
    "RAW_DATA_DIR = MAIN_DIR+'\\\\data\\\\raw\\\\store_item\\\\'\n",
    "PROCESSED_DATA_DIR = MAIN_DIR+'\\\\data\\\\processed\\\\'\n",
    "MODEL_DIR = MAIN_DIR + '\\\\models\\\\'\n",
    "OBJECTS_DIR = MAIN_DIR + '\\\\objects\\\\'\n",
    "CONFIGS_PATH = MAIN_DIR + '\\\\configs\\\\config.yaml'\n",
    "SCALER_FILE = 'scaler_info.save'\n",
    "TRAIN_PATH = RAW_DATA_DIR + 'train.csv'\n",
    "TEST_PATH = RAW_DATA_DIR + 'test.csv'\n",
    "PROCESSED_PATH = PROCESSED_DATA_DIR + 'data.csv'\n",
    "GROUPED_COLS = ['item','store','date']\n",
    "LABEL_COL = 'sales'\n",
    "INDEX_COL = 'date'\n",
    "NP_ARRAYS_NAMES = ['X_train_series', 'Y_train', 'X_valid_series', 'Y_valid']\n",
    "\n",
    "LSTM_PARAMS = {\n",
    "    'LSTM_WINDOW_LENGTH':29,\n",
    "    'LSTM_PREDICTION_LAG':90,\n",
    "    'LSTM_NODES':30,\n",
    "    'LSTM_EPOCHS':10,\n",
    "    'LSTM_BATCH':256,\n",
    "    'LSTM_LR':0.003\n",
    "}\n",
    "\n",
    "XGB_PARAMS = {\n",
    "    'XGB_MAX_DEPTH':3,\n",
    "    'XGB_ETA':0.2,\n",
    "    'XGB_SILENT':1,\n",
    "    'XGB_SUBSAMPLE':1,\n",
    "    'XGB_NUM_ROUNDS':1000\n",
    "}\n",
    "\n",
    "if platform.system() == 'Windows':\n",
    "    LOCAL_ENV = 1\n",
    "else:\n",
    "    LOCAL_ENV = 0"
   ]
  },
  {
   "cell_type": "code",
   "execution_count": 203,
   "outputs": [],
   "source": [
    "def get_conf(conf_path):\n",
    "    with open(rf'{conf_path}') as conf_file:\n",
    "        conf = yaml.safe_load(conf_file)\n",
    "        return conf\n"
   ],
   "metadata": {
    "collapsed": false,
    "pycharm": {
     "name": "#%%\n"
    }
   }
  },
  {
   "cell_type": "code",
   "execution_count": 209,
   "outputs": [
    {
     "name": "stdout",
     "output_type": "stream",
     "text": [
      "{'GROUPED_COLS': ['item', 'store', 'date'], 'LABEL_COL': 'sales', 'INDEX_COL': 'date', 'LSTM_PARAMS': [{'LSTM_WINDOW_LENGTH': 29}, {'LSTM_PREDICTION_LAG': 90}, {'LSTM_NODES': 30}, {'LSTM_EPOCHS': 10}, {'LSTM_BATCH': 256}, {'LSTM_LR': 0.003}], 'XGB_PARAMS': [{'XGB_MAX_DEPTH': 3}, {'XGB_ETA': 0.2}, {'XGB_SILENT': 1}, {'XGB_SUBSAMPLE': 1}, {'XGB_NUM_ROUNDS': 1000}]}\n"
     ]
    }
   ],
   "source": [
    "conf = get_conf(CONFIGS_PATH)\n",
    "print(conf)"
   ],
   "metadata": {
    "collapsed": false,
    "pycharm": {
     "name": "#%%\n"
    }
   }
  },
  {
   "cell_type": "code",
   "execution_count": 160,
   "metadata": {
    "collapsed": false,
    "pycharm": {
     "name": "#%%\n"
    }
   },
   "outputs": [],
   "source": [
    "def SMAPE(forecast, actual):\n",
    "    \"\"\"Returns the Symmetric Mean Absolute Percentage Error between two Series\"\"\"\n",
    "    if len(actual.shape)!=2:\n",
    "        actual = actual.reshape(actual.shape[0],1)\n",
    "    masked_arr = ~((forecast==0)&(actual==0))\n",
    "    diff = abs(forecast[masked_arr] - actual[masked_arr])\n",
    "    avg = (abs(forecast[masked_arr]) + abs(actual[masked_arr]))/2\n",
    "\n",
    "    print('SMAPE Error Score: ' + str(round(sum(diff/avg)/len(forecast) * 100, 2)) + ' %')"
   ]
  },
  {
   "cell_type": "code",
   "execution_count": 161,
   "outputs": [],
   "source": [
    "def plot_pred_vs_act(actual, predicted, model_type):\n",
    "    plt.rcParams[\"figure.figsize\"] = [16,9]\n",
    "    plt.plot(actual, label='Actual')\n",
    "    plt.plot(predicted, label='Predicted')\n",
    "    plt.legend()\n",
    "    plt.title(f'Predicted vs Actual Sales for {model_type} Model')"
   ],
   "metadata": {
    "collapsed": false,
    "pycharm": {
     "name": "#%%\n"
    }
   }
  },
  {
   "cell_type": "code",
   "execution_count": 162,
   "metadata": {
    "collapsed": false,
    "pycharm": {
     "name": "#%%\n"
    }
   },
   "outputs": [],
   "source": [
    "def Fuller(TimeSeries):\n",
    "    \"\"\"Provides Fuller test results for TimeSeries\"\"\"\n",
    "    stationary_test = adfuller(TimeSeries)\n",
    "    print('ADF Statistic: %f' % stationary_test[0])\n",
    "    print('p-value: %f' % stationary_test[1])\n",
    "    print('Critical Values:')\n",
    "    for key, value in stationary_test[4].items():\n",
    "        print('\\t%s: %.3f' % (key, value))"
   ]
  },
  {
   "cell_type": "code",
   "execution_count": 163,
   "metadata": {
    "collapsed": false,
    "pycharm": {
     "name": "#%%\n"
    }
   },
   "outputs": [],
   "source": [
    "def xboost(x_train, y_train, x_test, xgb_params):\n",
    "    \"\"\"Trains xgboost model and returns it\"\"\"\n",
    "\n",
    "    dtrain = xgb.DMatrix(x_train, label=y_train, feature_names=list(x_train.columns))\n",
    "    dtest = xgb.DMatrix(x_test, feature_names=list(x_test.columns))\n",
    "\n",
    "    params = {'max_depth':xgb_params['XGB_MAX_DEPTH'],\n",
    "              'eta':xgb_params['XGB_ETA'],\n",
    "              'silent':xgb_params['XGB_SILENT'],\n",
    "              'subsample':xgb_params['XGB_SUBSAMPLE']}\n",
    "\n",
    "    xgb_model = xgb.train(params, dtrain, xgb_params['XGB_NUM_ROUNDS'])\n",
    "\n",
    "    return xgb_model"
   ]
  },
  {
   "cell_type": "code",
   "execution_count": 190,
   "metadata": {
    "collapsed": false,
    "pycharm": {
     "name": "#%%\n"
    }
   },
   "outputs": [],
   "source": [
    "def lstm_model(params,lstm_model_dir, x_train=None, y_train=None, x_valid=None, y_valid=None):\n",
    "\n",
    "    folder_name = datetime.now().strftime(\"%m-%d-%Y-%H-%M-%S\")\n",
    "    save_path = f'model-{folder_name}'\n",
    "\n",
    "    if x_train:\n",
    "        fnf = listdir(lstm_model_dir)\n",
    "        sorted_lstm_models = [x for x in fnf if ('model' in str(x)) & ('xgb' not in str(x))]\n",
    "        sorted_lstm_models.sort(reverse=True)\n",
    "        model_lstm = models.load_model(lstm_model_dir+str(sorted_lstm_models[0]))\n",
    "\n",
    "    else:\n",
    "        callback = EarlyStopping(monitor='val_loss', patience=2)\n",
    "        model_lstm = Sequential()\n",
    "        model_lstm.add(LSTM(params['LSTM_NODES'], activation='relu', input_shape=(x_train.shape[1], x_train.shape[2])))\n",
    "        model_lstm.add(Dense(1))\n",
    "        model_lstm.compile(loss='mse', optimizer=optimizers.Adam(LSTM_PARAMS['LSTM_LR']))\n",
    "        model_lstm.summary()\n",
    "        lstm_history = model_lstm.fit(\n",
    "            x_train,\n",
    "            y_train,\n",
    "            validation_data=(x_valid, y_valid),\n",
    "            epochs=LSTM_PARAMS['LSTM_EPOCHS'],\n",
    "            callbacks=callback,\n",
    "            verbose=True\n",
    "        )\n",
    "        model_lstm.save(lstm_model_dir+save_path)\n",
    "    \n",
    "    return model_lstm\n",
    "\n"
   ]
  },
  {
   "cell_type": "code",
   "execution_count": 165,
   "metadata": {
    "collapsed": false,
    "pycharm": {
     "name": "#%%\n"
    }
   },
   "outputs": [],
   "source": [
    "def read_data(path, date_index_col):\n",
    "    if path:\n",
    "        df = pd.read_csv(path, index_col=date_index_col, infer_datetime_format=True)\n",
    "        df.index = pd.to_datetime(df.index)\n",
    "        return df"
   ]
  },
  {
   "cell_type": "code",
   "execution_count": 165,
   "metadata": {},
   "outputs": [],
   "source": []
  },
  {
   "cell_type": "code",
   "execution_count": 166,
   "metadata": {
    "collapsed": false,
    "pycharm": {
     "name": "#%%\n"
    }
   },
   "outputs": [],
   "source": []
  },
  {
   "cell_type": "code",
   "execution_count": 168,
   "metadata": {
    "collapsed": false,
    "pycharm": {
     "name": "#%%\n"
    }
   },
   "outputs": [],
   "source": [
    "# Prepare data for LSTM\n",
    "def lstm_data_preprocessing(data, grouped_cols, label_col, date_col='date'):\n",
    "    # Rearrange dataset so we can apply shift methods\n",
    "    data = data.reset_index()\n",
    "    data = data.sort_values(date_col).groupby(grouped_cols, as_index=False)\n",
    "    data = data.agg({f'{label_col}':['mean']})\n",
    "    data.columns = grouped_cols + [label_col]\n",
    "    return data\n"
   ]
  },
  {
   "cell_type": "code",
   "execution_count": 169,
   "metadata": {
    "collapsed": false,
    "pycharm": {
     "name": "#%%\n"
    }
   },
   "outputs": [],
   "source": [
    "def xgboost_data_preprocessing(data,date_col):\n",
    "\n",
    "    # Adding date based features\n",
    "    data[date_col] = pd.to_datetime(data[date_col])\n",
    "    data['year'] = data[date_col].dt.year\n",
    "    data['quarter'] = data[date_col].dt.quarter\n",
    "    data['month'] = data[date_col].dt.month\n",
    "    data['weekofyear'] = data[date_col].dt.weekofyear\n",
    "    data['weekday'] = data[date_col].dt.weekday\n",
    "    data['dayofweek'] = data[date_col].dt.dayofweek\n",
    "\n",
    "    xgb_train_x, xgb_test_x, xgb_train_y, xgb_test_y = train_test_split(data.drop([f'{INDEX_COL}',f'{LABEL_COL}'],axis=1), data[f'{LABEL_COL}'], test_size=0.2)\n",
    "\n",
    "    return "
   ]
  },
  {
   "cell_type": "code",
   "execution_count": 169,
   "metadata": {
    "collapsed": false,
    "pycharm": {
     "name": "#%%\n"
    }
   },
   "outputs": [],
   "source": []
  },
  {
   "cell_type": "code",
   "execution_count": 170,
   "metadata": {
    "collapsed": false,
    "pycharm": {
     "name": "#%%\n"
    }
   },
   "outputs": [],
   "source": [
    "# Transform the data into a time series problem\n",
    "\n",
    "def series_to_supervised(data, window=1, lag=1, dropnan=True):\n",
    "\n",
    "    # Drop date column from data\n",
    "    data.drop('date', axis=1, inplace=True)\n",
    "\n",
    "    cols, names = list(), list()\n",
    "\n",
    "    # Input sequence (t-n, ... t-1)\n",
    "    for i in range(window, 0, -1):\n",
    "        cols.append(data.shift(i))\n",
    "        names += [('%s(t-%d)' % (col, i)) for col in data.columns]\n",
    "\n",
    "    # Current timestep (t=0)\n",
    "    cols.append(data)\n",
    "    names += [('%s(t)' % (col)) for col in data.columns]\n",
    "\n",
    "    # Target timestep (t=lag)\n",
    "    cols.append(data.shift(-lag))\n",
    "    names += [('%s(t+%d)' % (col, lag)) for col in data.columns]\n",
    "\n",
    "    # Put it all together\n",
    "    agg = pd.concat(cols, axis=1)\n",
    "    agg.columns = names\n",
    "\n",
    "    # Drop rows with NaN values\n",
    "    if dropnan:\n",
    "        agg.dropna(inplace=True)\n",
    "    # print(agg.columns)\n",
    "    # Drop rows with different item or store values than the shifted columns\n",
    "\n",
    "    last_item = 'item(t-%d)' % window\n",
    "    last_store = 'store(t-%d)' % window\n",
    "    agg = agg[(agg['store(t)'] == agg[last_store])]\n",
    "    agg = agg[(agg['item(t)'] == agg[last_item])]\n",
    "\n",
    "    columns_to_drop = [('%s(t+%d)' % (col, lag)) for col in ['item', 'store']]\n",
    "    for i in range(window, 0, -1):\n",
    "        columns_to_drop += [('%s(t-%d)' % (col, i)) for col in ['item', 'store']]\n",
    "    agg.drop(columns_to_drop, axis=1, inplace=True)\n",
    "    agg.drop(['item(t)', 'store(t)'], axis=1, inplace=True)\n",
    "    print(type(agg))\n",
    "\n",
    "    return agg\n"
   ]
  },
  {
   "cell_type": "code",
   "execution_count": 171,
   "outputs": [],
   "source": [
    "def split_train_valid(data, test_size, lag):\n",
    "\n",
    "    # Label\n",
    "    labels_col = 'sales(t+%d)' % lag\n",
    "    labels = data[labels_col]\n",
    "    data = data.drop(labels_col, axis=1)\n",
    "\n",
    "    X_train, X_valid, Y_train, Y_valid = train_test_split(data, labels.values, test_size=test_size, random_state=0)\n",
    "    # print('Train set shape', X_train.shape)\n",
    "    # print('Validation set shape', X_valid.shape)\n",
    "    # display(X_train)\n",
    "    # display(Y_valid)\n",
    "    # X_train_series = X_train.values.reshape((X_train.shape[0], X_train.shape[1], 1))\n",
    "    # X_valid_series = X_valid.values.reshape((X_valid.shape[0], X_valid.shape[1], 1))\n",
    "    # print('Train set shape', X_train_series.shape)\n",
    "    # print('Validation set shape', X_valid_series.shape)\n",
    "\n",
    "    return X_train, Y_train, X_valid, Y_valid"
   ],
   "metadata": {
    "collapsed": false,
    "pycharm": {
     "name": "#%%\n"
    }
   }
  },
  {
   "cell_type": "code",
   "execution_count": 172,
   "outputs": [],
   "source": [
    "def reshape_features(X_train,X_valid):\n",
    "    X_train_series = X_train.values.reshape((X_train.shape[0], X_train.shape[1], 1))\n",
    "    X_valid_series = X_valid.values.reshape((X_valid.shape[0], X_valid.shape[1], 1))\n",
    "    return X_train_series, X_valid_series"
   ],
   "metadata": {
    "collapsed": false,
    "pycharm": {
     "name": "#%%\n"
    }
   }
  },
  {
   "cell_type": "code",
   "execution_count": 173,
   "outputs": [],
   "source": [
    "def data_scaler(data, scaled, type=None):\n",
    "    if scaled:\n",
    "        fitted_scaler = joblib.load(OBJECTS_DIR+SCALER_FILE)\n",
    "\n",
    "        if type=='inverse':\n",
    "            inv_scaled_data = fitted_scaler.inverse_transform(data)\n",
    "            return inv_scaled_data\n",
    "        else:\n",
    "            scaled_data = fitted_scaler.transform(data)\n",
    "            return scaled_data\n",
    "\n",
    "    else:\n",
    "        scaler = StandardScaler()\n",
    "        fitted_scaler = scaler.fit(data)\n",
    "        scaled_data = fitted_scaler.transform(data)\n",
    "        joblib.dump(fitted_scaler, OBJECTS_DIR+SCALER_FILE)\n",
    "        return scaled_data\n"
   ],
   "metadata": {
    "collapsed": false,
    "pycharm": {
     "name": "#%%\n"
    }
   }
  },
  {
   "cell_type": "code",
   "execution_count": null,
   "outputs": [],
   "source": [
    "# Read Training and Testing data\n",
    "train = read_data(TRAIN_PATH, 0)\n",
    "test = read_data(TEST_PATH, 1)\n"
   ],
   "metadata": {
    "collapsed": false,
    "pycharm": {
     "name": "#%%\n"
    }
   }
  },
  {
   "cell_type": "markdown",
   "source": [
    "<h1> LSTM </h1>"
   ],
   "metadata": {
    "collapsed": false
   }
  },
  {
   "cell_type": "code",
   "execution_count": 174,
   "metadata": {
    "collapsed": false,
    "pycharm": {
     "name": "#%%\n"
    }
   },
   "outputs": [],
   "source": [
    "if LOCAL_ENV:\n",
    "\n",
    "    # Prepare train data for lstm\n",
    "    lstm_processed_data = lstm_data_preprocessing(train,\n",
    "                                                  GROUPED_COLS,\n",
    "                                                  LABEL_COL,\n",
    "                                                  INDEX_COL)\n",
    "\n",
    "    lstm_processed_data_2 = series_to_supervised(\n",
    "        lstm_processed_data,\n",
    "        window=LSTM_PARAMS['LSTM_WINDOW_LENGTH'],\n",
    "        lag=LSTM_PARAMS['LSTM_PREDICTION_LAG']\n",
    "    )\n",
    "\n",
    "    # Split into train-test set\n",
    "    X_train, Y_train, X_valid, Y_valid = split_train_valid(\n",
    "        lstm_processed_data_2,\n",
    "        test_size=0.2,\n",
    "        lag=LSTM_PARAMS['LSTM_PREDICTION_LAG']\n",
    "    )\n",
    "\n",
    "    # Scale data for training\n",
    "    X_train_scaled = data_scaler(X_train, scaled=0)\n",
    "    # Y_train_scaled = data_scaler(Y_train, scaled=1)\n",
    "    X_valid_scaled = data_scaler(X_valid, scaled=1)\n",
    "    # Y_valid_scaled = data_scaler(Y_valid, scaled=1)\n",
    "\n",
    "    # Reshape data for training\n",
    "    X_train_series, X_valid_series = reshape_features(X_train, X_valid)\n",
    "\n",
    "    # Save training and eval data\n",
    "    NP_ARRAYS = [X_train_series, Y_train, X_valid_series, Y_valid]\n",
    "    for i in range(len(NP_ARRAYS)):\n",
    "        np.save(PROCESSED_DATA_DIR+f'{NP_ARRAYS_NAMES[i]}.npy',NP_ARRAYS[i])\n",
    "\n",
    "    model_lstm = lstm_model(LSTM_PARAMS, MODEL_DIR, X_train_series, Y_train, X_valid_series, Y_valid)\n",
    "\n",
    "else:\n",
    "    X_train_series = np.load(PROCESSED_DATA_DIR+NP_ARRAYS_NAMES[0]+'.npy')\n",
    "    Y_train = np.load(PROCESSED_DATA_DIR+NP_ARRAYS_NAMES[1]+'.npy')\n",
    "    X_valid_series = np.load(PROCESSED_DATA_DIR+NP_ARRAYS_NAMES[2]+'.npy')\n",
    "    Y_valid = np.load(PROCESSED_DATA_DIR+NP_ARRAYS_NAMES[3]+'.npy')\n",
    "    model_lstm = lstm_model(LSTM_PARAMS, MODEL_DIR)"
   ]
  },
  {
   "cell_type": "markdown",
   "source": [],
   "metadata": {
    "collapsed": false
   }
  },
  {
   "cell_type": "code",
   "execution_count": 196,
   "outputs": [],
   "source": [],
   "metadata": {
    "collapsed": false,
    "pycharm": {
     "name": "#%%\n"
    }
   }
  },
  {
   "cell_type": "markdown",
   "source": [],
   "metadata": {
    "collapsed": false
   }
  },
  {
   "cell_type": "code",
   "execution_count": 180,
   "outputs": [],
   "source": [
    "lstm_pred = model_lstm.predict(X_valid_series)"
   ],
   "metadata": {
    "collapsed": false,
    "pycharm": {
     "name": "#%%\n"
    }
   }
  },
  {
   "cell_type": "code",
   "execution_count": 181,
   "outputs": [
    {
     "name": "stdout",
     "output_type": "stream",
     "text": [
      "SMAPE Error Score: 27.98 %\n"
     ]
    }
   ],
   "source": [
    "SMAPE(lstm_pred, Y_valid)"
   ],
   "metadata": {
    "collapsed": false,
    "pycharm": {
     "name": "#%%\n"
    }
   }
  },
  {
   "cell_type": "code",
   "execution_count": 182,
   "outputs": [
    {
     "name": "stdout",
     "output_type": "stream",
     "text": [
      "5616/5616 [==============================] - 43s 7ms/step - loss: 316.2009\n"
     ]
    },
    {
     "data": {
      "text/plain": "316.2008972167969"
     },
     "execution_count": 182,
     "metadata": {},
     "output_type": "execute_result"
    }
   ],
   "source": [
    "model_lstm.evaluate(X_valid_series, Y_valid)"
   ],
   "metadata": {
    "collapsed": false,
    "pycharm": {
     "name": "#%%\n"
    }
   }
  },
  {
   "cell_type": "code",
   "execution_count": 210,
   "outputs": [
    {
     "data": {
      "text/plain": "<Figure size 1152x648 with 1 Axes>",
      "image/png": "[encoded data removed]"
     },
     "metadata": {
      "needs_background": "light"
     },
     "output_type": "display_data"
    }
   ],
   "source": [
    "plot_pred_vs_act(Y_valid[:50],lstm_pred[:50],'LSTM')"
   ],
   "metadata": {
    "collapsed": false,
    "pycharm": {
     "name": "#%%\n"
    }
   }
  },
  {
   "cell_type": "markdown",
   "source": [
    "<h1> XGBOOST </h1>"
   ],
   "metadata": {
    "collapsed": false
   }
  },
  {
   "cell_type": "code",
   "execution_count": 184,
   "outputs": [
    {
     "ename": "NameError",
     "evalue": "name 'xgb_train_x' is not defined",
     "output_type": "error",
     "traceback": [
      "\u001B[1;31m---------------------------------------------------------------------------\u001B[0m",
      "\u001B[1;31mNameError\u001B[0m                                 Traceback (most recent call last)",
      "Input \u001B[1;32mIn [184]\u001B[0m, in \u001B[0;36m<cell line: 1>\u001B[1;34m()\u001B[0m\n\u001B[1;32m----> 1\u001B[0m xgb_predictions \u001B[38;5;241m=\u001B[39m xboost(\u001B[43mxgb_train_x\u001B[49m, xgb_train_y, xgb_test_x, xgb_trained)\n",
      "\u001B[1;31mNameError\u001B[0m: name 'xgb_train_x' is not defined"
     ]
    }
   ],
   "source": [
    "xgb_predictions = xboost(xgb_train_x, xgb_train_y, xgb_test_x, xgb_trained)\n"
   ],
   "metadata": {
    "collapsed": false,
    "pycharm": {
     "name": "#%%\n"
    }
   }
  }
 ],
 "metadata": {
  "kernelspec": {
   "display_name": "Python 3",
   "language": "python",
   "name": "python3"
  },
  "language_info": {
   "codemirror_mode": {
    "name": "ipython",
    "version": 2
   },
   "file_extension": ".py",
   "mimetype": "text/x-python",
   "name": "python",
   "nbconvert_exporter": "python",
   "pygments_lexer": "ipython2",
   "version": "2.7.6"
  }
 },
 "nbformat": 4,
 "nbformat_minor": 0
}